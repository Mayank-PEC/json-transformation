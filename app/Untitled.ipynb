{
 "cells": [
  {
   "cell_type": "code",
   "execution_count": 11,
   "id": "d7aee6a8",
   "metadata": {},
   "outputs": [],
   "source": [
    "import pandas as pd\n",
    "import numpy as np\n",
    "import json\n",
    "import csv"
   ]
  },
  {
   "cell_type": "code",
   "execution_count": 2,
   "id": "ed2acf8a",
   "metadata": {},
   "outputs": [],
   "source": [
    "f1 = open('source.json')\n",
    "f2 = open('target.json')\n"
   ]
  },
  {
   "cell_type": "code",
   "execution_count": 3,
   "id": "752a2aac",
   "metadata": {},
   "outputs": [
    {
     "data": {
      "text/plain": [
       "{'id': '122-34-6543',\n",
       " 'firstName': 'Leanne',\n",
       " 'lastName': 'Graham',\n",
       " 'address': {'street': 'Kulas Light',\n",
       "  'suite': 'Apt. 556',\n",
       "  'city': 'Gwenborough',\n",
       "  'zipcode': '92998-3874'},\n",
       " 'occupation': 'self-employed',\n",
       " 'age': 29}"
      ]
     },
     "execution_count": 3,
     "metadata": {},
     "output_type": "execute_result"
    }
   ],
   "source": [
    "source = json.load(f1)\n",
    "source"
   ]
  },
  {
   "cell_type": "code",
   "execution_count": 4,
   "id": "c1439089",
   "metadata": {},
   "outputs": [
    {
     "data": {
      "text/plain": [
       "{'SSN': '122-34-6543',\n",
       " 'CustomerFullName': 'Leanne Graham',\n",
       " 'CustomerAddress': 'Kulas Light Apt. 556',\n",
       " 'CustomerCity': 'Gwenborough',\n",
       " 'CustomerZipCode': '92998-3874',\n",
       " 'CustomerProfession': 'SELF',\n",
       " 'CustomerAge': 29}"
      ]
     },
     "execution_count": 4,
     "metadata": {},
     "output_type": "execute_result"
    }
   ],
   "source": [
    "target = json.load(f2)\n",
    "target"
   ]
  },
  {
   "cell_type": "code",
   "execution_count": 6,
   "id": "c531e90b",
   "metadata": {},
   "outputs": [
    {
     "data": {
      "text/html": [
       "<div>\n",
       "<style scoped>\n",
       "    .dataframe tbody tr th:only-of-type {\n",
       "        vertical-align: middle;\n",
       "    }\n",
       "\n",
       "    .dataframe tbody tr th {\n",
       "        vertical-align: top;\n",
       "    }\n",
       "\n",
       "    .dataframe thead th {\n",
       "        text-align: right;\n",
       "    }\n",
       "</style>\n",
       "<table border=\"1\" class=\"dataframe\">\n",
       "  <thead>\n",
       "    <tr style=\"text-align: right;\">\n",
       "      <th></th>\n",
       "      <th>No.</th>\n",
       "      <th>Target</th>\n",
       "      <th>Source</th>\n",
       "      <th>Enumeration</th>\n",
       "    </tr>\n",
       "  </thead>\n",
       "  <tbody>\n",
       "    <tr>\n",
       "      <th>0</th>\n",
       "      <td>1</td>\n",
       "      <td>SSN</td>\n",
       "      <td>.id</td>\n",
       "      <td>-</td>\n",
       "    </tr>\n",
       "    <tr>\n",
       "      <th>1</th>\n",
       "      <td>2</td>\n",
       "      <td>CustomerFullName</td>\n",
       "      <td>.firstName + .lastName</td>\n",
       "      <td>-</td>\n",
       "    </tr>\n",
       "    <tr>\n",
       "      <th>2</th>\n",
       "      <td>3</td>\n",
       "      <td>CustomerAddress</td>\n",
       "      <td>.address.street + .address.suite</td>\n",
       "      <td>-</td>\n",
       "    </tr>\n",
       "    <tr>\n",
       "      <th>3</th>\n",
       "      <td>4</td>\n",
       "      <td>CustomerCity</td>\n",
       "      <td>.address.city</td>\n",
       "      <td>-</td>\n",
       "    </tr>\n",
       "    <tr>\n",
       "      <th>4</th>\n",
       "      <td>5</td>\n",
       "      <td>CustomerZipCode</td>\n",
       "      <td>.address.zipcode</td>\n",
       "      <td>-</td>\n",
       "    </tr>\n",
       "    <tr>\n",
       "      <th>5</th>\n",
       "      <td>7</td>\n",
       "      <td>CustomerAge</td>\n",
       "      <td>.age</td>\n",
       "      <td>-</td>\n",
       "    </tr>\n",
       "  </tbody>\n",
       "</table>\n",
       "</div>"
      ],
      "text/plain": [
       "   No.             Target                             Source  Enumeration\n",
       "0    1                SSN                                .id            -\n",
       "1    2   CustomerFullName             .firstName + .lastName            -\n",
       "2    3    CustomerAddress   .address.street + .address.suite            -\n",
       "3    4       CustomerCity                      .address.city            -\n",
       "4    5    CustomerZipCode                   .address.zipcode            -\n",
       "5    7        CustomerAge                               .age            -"
      ]
     },
     "execution_count": 6,
     "metadata": {},
     "output_type": "execute_result"
    }
   ],
   "source": [
    "data = pd.read_csv(\"mapping.csv\",on_bad_lines = 'skip')\n",
    "data"
   ]
  },
  {
   "cell_type": "code",
   "execution_count": 8,
   "id": "e063ab14",
   "metadata": {},
   "outputs": [
    {
     "name": "stdout",
     "output_type": "stream",
     "text": [
      "No.,Target, Source, Enumeration\n",
      "1, SSN, .id, -\n",
      "2, CustomerFullName, .firstName + .lastName, -\n",
      "3, CustomerAddress, .address.street + .address.suite, -\n",
      "4, CustomerCity, .address.city, -\n",
      "5, CustomerZipCode, .address.zipcode, -\n",
      "6, CustomerProfession, ENUM(.occupation), {\"self-employed\": \"SELF\"\",\" \"salaried\": \"FIXED INCOME\"\",\" \"other\": \"MISC\"}\n",
      "7, CustomerAge, .age, -\n",
      "\n"
     ]
    }
   ],
   "source": [
    "data2 = open(\"mapping.csv\",\"r\")\n",
    "print(data2.read())"
   ]
  },
  {
   "cell_type": "code",
   "execution_count": 10,
   "id": "c17dd4ba",
   "metadata": {},
   "outputs": [
    {
     "ename": "IndexError",
     "evalue": "list index out of range",
     "output_type": "error",
     "traceback": [
      "\u001b[1;31m---------------------------------------------------------------------------\u001b[0m",
      "\u001b[1;31mIndexError\u001b[0m                                Traceback (most recent call last)",
      "\u001b[1;32m~\\AppData\\Local\\Temp\\ipykernel_1352\\1069993384.py\u001b[0m in \u001b[0;36m<module>\u001b[1;34m\u001b[0m\n\u001b[0;32m      1\u001b[0m \u001b[0mcontent\u001b[0m \u001b[1;33m=\u001b[0m \u001b[0mdata2\u001b[0m\u001b[1;33m.\u001b[0m\u001b[0mreadlines\u001b[0m\u001b[1;33m(\u001b[0m\u001b[1;33m)\u001b[0m\u001b[1;33m\u001b[0m\u001b[1;33m\u001b[0m\u001b[0m\n\u001b[1;32m----> 2\u001b[1;33m \u001b[0mcontent\u001b[0m\u001b[1;33m[\u001b[0m\u001b[1;36m0\u001b[0m\u001b[1;33m]\u001b[0m\u001b[1;33m\u001b[0m\u001b[1;33m\u001b[0m\u001b[0m\n\u001b[0m",
      "\u001b[1;31mIndexError\u001b[0m: list index out of range"
     ]
    }
   ],
   "source": [
    "content = data2.readlines()\n",
    "content[0]"
   ]
  },
  {
   "cell_type": "code",
   "execution_count": 67,
   "id": "f66d3f68",
   "metadata": {},
   "outputs": [
    {
     "name": "stdout",
     "output_type": "stream",
     "text": [
      "['id']\n",
      "['firstName', 'lastName']\n",
      "['address.street', 'address.suite']\n",
      "['address.city']\n",
      "['address.zipcode']\n",
      "['ENUM(.occupation)']\n",
      "['age']\n",
      "  SR               Target Source Operation EnumFound\n",
      "0  1                  SSN               No        No\n",
      "1  2     CustomerFullName                +        No\n",
      "2  3      CustomerAddress                +        No\n",
      "3  4         CustomerCity               No        No\n",
      "4  5      CustomerZipCode               No        No\n",
      "5  6   CustomerProfession               No       Yes\n",
      "6  7          CustomerAge               No        No\n"
     ]
    }
   ],
   "source": [
    "allList = []\n",
    "proper_data = pd.DataFrame(columns=['SR','Target','Source','Operation','EnumFound'])\n",
    "with open('mapping.csv') as file_obj:\n",
    "    reader_obj = csv.reader(file_obj)\n",
    "    for row in reader_obj:\n",
    "        if(row[0]=='No.'):\n",
    "            continue\n",
    "        else:\n",
    "            sourcelist = row[2].split(\" + \")\n",
    "            for i in range(0,len(sourcelist)):\n",
    "                sourcelist[i] = sourcelist[i].strip(\" .\")\n",
    "            print(sourcelist)\n",
    "            allList.append(sourcelist)\n",
    "            \n",
    "            enum = False\n",
    "            for i in range(0,len(sourcelist)):\n",
    "                if(sourcelist[i].find(\"ENUM\")!=-1):\n",
    "                    enum = True\n",
    "                    break\n",
    "            \n",
    "            \n",
    "            if(len(sourcelist)>1):\n",
    "                \n",
    "                new_row = {'SR':row[0],'Target':row[1],'Source':\"\",'Operation':\"+\",'EnumFound':\"No\"}\n",
    "                proper_data = proper_data.append(new_row,ignore_index = True)\n",
    "                \n",
    "            else:\n",
    "                if(enum==True):\n",
    "                    \n",
    "                    new_row = {'SR':row[0],'Target':row[1],'Source':\"\",'Operation':\"No\",'EnumFound':\"Yes\"}\n",
    "                    proper_data = proper_data.append(new_row,ignore_index = True)\n",
    "                    \n",
    "                else:\n",
    "                    new_row = {'SR':row[0],'Target':row[1],'Source':\"\",'Operation':\"No\",'EnumFound':\"No\"}\n",
    "                    proper_data = proper_data.append(new_row,ignore_index = True)\n",
    "        \n",
    "print(proper_data)       "
   ]
  },
  {
   "cell_type": "code",
   "execution_count": 70,
   "id": "72ea0c74",
   "metadata": {},
   "outputs": [
    {
     "data": {
      "text/plain": [
       "[['id'],\n",
       " ['firstName', 'lastName'],\n",
       " ['address.street', 'address.suite'],\n",
       " ['address.city'],\n",
       " ['address.zipcode'],\n",
       " ['occupation'],\n",
       " ['age']]"
      ]
     },
     "execution_count": 70,
     "metadata": {},
     "output_type": "execute_result"
    }
   ],
   "source": [
    "for i in range(0,len(allList)):\n",
    "    for j in range(0,len(allList[i])):\n",
    "        allList[i][j] = allList[i][j].strip(\"ENUM(.\")\n",
    "        allList[i][j] = allList[i][j].strip(\")\")\n",
    "allList"
   ]
  },
  {
   "cell_type": "code",
   "execution_count": 72,
   "id": "ff1b8cc9",
   "metadata": {},
   "outputs": [
    {
     "data": {
      "text/html": [
       "<div>\n",
       "<style scoped>\n",
       "    .dataframe tbody tr th:only-of-type {\n",
       "        vertical-align: middle;\n",
       "    }\n",
       "\n",
       "    .dataframe tbody tr th {\n",
       "        vertical-align: top;\n",
       "    }\n",
       "\n",
       "    .dataframe thead th {\n",
       "        text-align: right;\n",
       "    }\n",
       "</style>\n",
       "<table border=\"1\" class=\"dataframe\">\n",
       "  <thead>\n",
       "    <tr style=\"text-align: right;\">\n",
       "      <th></th>\n",
       "      <th>SR</th>\n",
       "      <th>Target</th>\n",
       "      <th>Source</th>\n",
       "      <th>Operation</th>\n",
       "      <th>EnumFound</th>\n",
       "    </tr>\n",
       "  </thead>\n",
       "  <tbody>\n",
       "    <tr>\n",
       "      <th>0</th>\n",
       "      <td>1</td>\n",
       "      <td>SSN</td>\n",
       "      <td></td>\n",
       "      <td>No</td>\n",
       "      <td>No</td>\n",
       "    </tr>\n",
       "    <tr>\n",
       "      <th>1</th>\n",
       "      <td>2</td>\n",
       "      <td>CustomerFullName</td>\n",
       "      <td></td>\n",
       "      <td>+</td>\n",
       "      <td>No</td>\n",
       "    </tr>\n",
       "    <tr>\n",
       "      <th>2</th>\n",
       "      <td>3</td>\n",
       "      <td>CustomerAddress</td>\n",
       "      <td></td>\n",
       "      <td>+</td>\n",
       "      <td>No</td>\n",
       "    </tr>\n",
       "    <tr>\n",
       "      <th>3</th>\n",
       "      <td>4</td>\n",
       "      <td>CustomerCity</td>\n",
       "      <td></td>\n",
       "      <td>No</td>\n",
       "      <td>No</td>\n",
       "    </tr>\n",
       "    <tr>\n",
       "      <th>4</th>\n",
       "      <td>5</td>\n",
       "      <td>CustomerZipCode</td>\n",
       "      <td></td>\n",
       "      <td>No</td>\n",
       "      <td>No</td>\n",
       "    </tr>\n",
       "    <tr>\n",
       "      <th>5</th>\n",
       "      <td>6</td>\n",
       "      <td>CustomerProfession</td>\n",
       "      <td></td>\n",
       "      <td>No</td>\n",
       "      <td>Yes</td>\n",
       "    </tr>\n",
       "    <tr>\n",
       "      <th>6</th>\n",
       "      <td>7</td>\n",
       "      <td>CustomerAge</td>\n",
       "      <td></td>\n",
       "      <td>No</td>\n",
       "      <td>No</td>\n",
       "    </tr>\n",
       "  </tbody>\n",
       "</table>\n",
       "</div>"
      ],
      "text/plain": [
       "  SR               Target Source Operation EnumFound\n",
       "0  1                  SSN               No        No\n",
       "1  2     CustomerFullName                +        No\n",
       "2  3      CustomerAddress                +        No\n",
       "3  4         CustomerCity               No        No\n",
       "4  5      CustomerZipCode               No        No\n",
       "5  6   CustomerProfession               No       Yes\n",
       "6  7          CustomerAge               No        No"
      ]
     },
     "execution_count": 72,
     "metadata": {},
     "output_type": "execute_result"
    }
   ],
   "source": [
    "proper_data"
   ]
  },
  {
   "cell_type": "code",
   "execution_count": 73,
   "id": "bbaf9b8e",
   "metadata": {},
   "outputs": [],
   "source": [
    "# with open('mapping.csv') as file_obj:\n",
    "#     reader_obj = csv.reader(file_obj)\n",
    "#     for row in reader_obj:\n",
    "#         print(row)"
   ]
  },
  {
   "cell_type": "code",
   "execution_count": 74,
   "id": "2c1a52c4",
   "metadata": {},
   "outputs": [],
   "source": [
    "\n",
    "mappings = [[]]\n",
    "\n",
    "with open('mapping.csv', 'r') as f:\n",
    "    reader = csv.reader(f)\n",
    "    for row in reader:\n",
    "        temp=[];\n",
    "        enum=\"\";\n",
    "        ind=0;\n",
    "        for item in row:\n",
    "          ind+=1;\n",
    "          if(ind>=4):\n",
    "            enum+=item[:-1]+\",\"+item[-1];\n",
    "          else:\n",
    "            temp.append(item.lstrip());\n",
    "        temp.append((enum[:-2]+enum[-1]).lstrip())\n",
    "#         print(enum[:-2]+enum[-1]);\n",
    "        mappings.append(temp)"
   ]
  },
  {
   "cell_type": "code",
   "execution_count": 75,
   "id": "0dcc1ec0",
   "metadata": {},
   "outputs": [],
   "source": [
    "enumlist = []\n",
    "for i in range(2,len(mappings)):\n",
    "    enumlist.append(mappings[i][3])"
   ]
  },
  {
   "cell_type": "code",
   "execution_count": 76,
   "id": "d653adcb",
   "metadata": {},
   "outputs": [
    {
     "data": {
      "text/plain": [
       "['-',\n",
       " '-',\n",
       " '-',\n",
       " '-',\n",
       " '-',\n",
       " '{\"self-employed\": \"SELF\",\" salaried\": \"FIXED INCOME\",\" other\": \"MISC\"}',\n",
       " '-']"
      ]
     },
     "execution_count": 76,
     "metadata": {},
     "output_type": "execute_result"
    }
   ],
   "source": [
    "enumlist"
   ]
  },
  {
   "cell_type": "code",
   "execution_count": 78,
   "id": "eefbfd9f",
   "metadata": {},
   "outputs": [
    {
     "data": {
      "text/html": [
       "<div>\n",
       "<style scoped>\n",
       "    .dataframe tbody tr th:only-of-type {\n",
       "        vertical-align: middle;\n",
       "    }\n",
       "\n",
       "    .dataframe tbody tr th {\n",
       "        vertical-align: top;\n",
       "    }\n",
       "\n",
       "    .dataframe thead th {\n",
       "        text-align: right;\n",
       "    }\n",
       "</style>\n",
       "<table border=\"1\" class=\"dataframe\">\n",
       "  <thead>\n",
       "    <tr style=\"text-align: right;\">\n",
       "      <th></th>\n",
       "      <th>SR</th>\n",
       "      <th>Target</th>\n",
       "      <th>Source</th>\n",
       "      <th>Operation</th>\n",
       "      <th>EnumFound</th>\n",
       "    </tr>\n",
       "  </thead>\n",
       "  <tbody>\n",
       "    <tr>\n",
       "      <th>0</th>\n",
       "      <td>1</td>\n",
       "      <td>SSN</td>\n",
       "      <td></td>\n",
       "      <td>No</td>\n",
       "      <td>No</td>\n",
       "    </tr>\n",
       "    <tr>\n",
       "      <th>1</th>\n",
       "      <td>2</td>\n",
       "      <td>CustomerFullName</td>\n",
       "      <td></td>\n",
       "      <td>+</td>\n",
       "      <td>No</td>\n",
       "    </tr>\n",
       "    <tr>\n",
       "      <th>2</th>\n",
       "      <td>3</td>\n",
       "      <td>CustomerAddress</td>\n",
       "      <td></td>\n",
       "      <td>+</td>\n",
       "      <td>No</td>\n",
       "    </tr>\n",
       "    <tr>\n",
       "      <th>3</th>\n",
       "      <td>4</td>\n",
       "      <td>CustomerCity</td>\n",
       "      <td></td>\n",
       "      <td>No</td>\n",
       "      <td>No</td>\n",
       "    </tr>\n",
       "    <tr>\n",
       "      <th>4</th>\n",
       "      <td>5</td>\n",
       "      <td>CustomerZipCode</td>\n",
       "      <td></td>\n",
       "      <td>No</td>\n",
       "      <td>No</td>\n",
       "    </tr>\n",
       "    <tr>\n",
       "      <th>5</th>\n",
       "      <td>6</td>\n",
       "      <td>CustomerProfession</td>\n",
       "      <td></td>\n",
       "      <td>No</td>\n",
       "      <td>Yes</td>\n",
       "    </tr>\n",
       "    <tr>\n",
       "      <th>6</th>\n",
       "      <td>7</td>\n",
       "      <td>CustomerAge</td>\n",
       "      <td></td>\n",
       "      <td>No</td>\n",
       "      <td>No</td>\n",
       "    </tr>\n",
       "  </tbody>\n",
       "</table>\n",
       "</div>"
      ],
      "text/plain": [
       "  SR               Target Source Operation EnumFound\n",
       "0  1                  SSN               No        No\n",
       "1  2     CustomerFullName                +        No\n",
       "2  3      CustomerAddress                +        No\n",
       "3  4         CustomerCity               No        No\n",
       "4  5      CustomerZipCode               No        No\n",
       "5  6   CustomerProfession               No       Yes\n",
       "6  7          CustomerAge               No        No"
      ]
     },
     "execution_count": 78,
     "metadata": {},
     "output_type": "execute_result"
    }
   ],
   "source": [
    "proper_data"
   ]
  },
  {
   "cell_type": "code",
   "execution_count": 79,
   "id": "3b4200e0",
   "metadata": {},
   "outputs": [
    {
     "data": {
      "text/plain": [
       "[['id'],\n",
       " ['firstName', 'lastName'],\n",
       " ['address.street', 'address.suite'],\n",
       " ['address.city'],\n",
       " ['address.zipcode'],\n",
       " ['occupation'],\n",
       " ['age']]"
      ]
     },
     "execution_count": 79,
     "metadata": {},
     "output_type": "execute_result"
    }
   ],
   "source": [
    "allList"
   ]
  },
  {
   "cell_type": "code",
   "execution_count": 100,
   "id": "98dcd210",
   "metadata": {},
   "outputs": [],
   "source": [
    "target_made = {}"
   ]
  },
  {
   "cell_type": "code",
   "execution_count": 82,
   "id": "adc7f357",
   "metadata": {},
   "outputs": [
    {
     "data": {
      "text/plain": [
       "{'SSN': '122-34-6543',\n",
       " 'CustomerFullName': 'Leanne Graham',\n",
       " 'CustomerAddress': 'Kulas Light Apt. 556',\n",
       " 'CustomerCity': 'Gwenborough',\n",
       " 'CustomerZipCode': '92998-3874',\n",
       " 'CustomerProfession': 'SELF',\n",
       " 'CustomerAge': 29}"
      ]
     },
     "execution_count": 82,
     "metadata": {},
     "output_type": "execute_result"
    }
   ],
   "source": [
    "target"
   ]
  },
  {
   "cell_type": "code",
   "execution_count": 99,
   "id": "479a0d5a",
   "metadata": {},
   "outputs": [
    {
     "data": {
      "text/plain": [
       "{'id': '122-34-6543',\n",
       " 'firstName': 'Leanne',\n",
       " 'lastName': 'Graham',\n",
       " 'address': {'street': 'Kulas Light',\n",
       "  'suite': 'Apt. 556',\n",
       "  'city': 'Gwenborough',\n",
       "  'zipcode': '92998-3874'},\n",
       " 'occupation': 'self-employed',\n",
       " 'age': 29}"
      ]
     },
     "execution_count": 99,
     "metadata": {},
     "output_type": "execute_result"
    }
   ],
   "source": [
    "source"
   ]
  },
  {
   "cell_type": "code",
   "execution_count": 108,
   "id": "19a0f1b0",
   "metadata": {},
   "outputs": [
    {
     "data": {
      "text/plain": [
       "'Kulas Light'"
      ]
     },
     "execution_count": 108,
     "metadata": {},
     "output_type": "execute_result"
    }
   ],
   "source": [
    "source['address']['street']"
   ]
  },
  {
   "cell_type": "code",
   "execution_count": 101,
   "id": "9a062c97",
   "metadata": {},
   "outputs": [],
   "source": [
    "for i in range(0,len(proper_data)):\n",
    "    target_made[proper_data['Target'][i].strip(\" \")] = '0'"
   ]
  },
  {
   "cell_type": "code",
   "execution_count": 102,
   "id": "c616d8c9",
   "metadata": {},
   "outputs": [
    {
     "data": {
      "text/plain": [
       "{'SSN': '0',\n",
       " 'CustomerFullName': '0',\n",
       " 'CustomerAddress': '0',\n",
       " 'CustomerCity': '0',\n",
       " 'CustomerZipCode': '0',\n",
       " 'CustomerProfession': '0',\n",
       " 'CustomerAge': '0'}"
      ]
     },
     "execution_count": 102,
     "metadata": {},
     "output_type": "execute_result"
    }
   ],
   "source": [
    "target_made"
   ]
  },
  {
   "cell_type": "code",
   "execution_count": 111,
   "id": "e288c165",
   "metadata": {},
   "outputs": [],
   "source": [
    "for i in range(0,len(proper_data)):\n",
    "    if(proper_data['Operation'][i]=='No' and proper_data['EnumFound'][i]=='No' and allList[i][0].find(\".\")==-1):\n",
    "        \n",
    "        target_made[proper_data['Target'][i].strip(\" \")] = source[allList[i][0]]\n",
    "        \n",
    "        \n",
    "    if(proper_data['Operation'][i]=='No' and proper_data['EnumFound'][i]=='No' and allList[i][0].find(\".\")!=-1):\n",
    "        listy = allList[i][0].split(\".\")\n",
    "        \n",
    "        if(len(listy)==2):\n",
    "            \n",
    "            target_made[proper_data['Target'][i].strip(\" \")] = source[listy[0]][listy[1]]\n",
    "            \n",
    "        if(len(listy)==3):\n",
    "            \n",
    "            target_made[proper_data['Target'][i].strip(\" \")] = source[listy[0]][listy[1]][listy[2]]\n",
    "            \n",
    "        if(len(listy)==4):\n",
    "            \n",
    "            target_made[proper_data['Target'][i].strip(\" \")] = source[listy[0]][listy[1]][listy[2]][listy[3]]\n",
    "            \n",
    "        if(len(listy)==5):\n",
    "            \n",
    "            target_made[proper_data['Target'][i].strip(\" \")] = source[listy[0]][listy[1]][listy[2]][listy[3]][listy[4]]\n",
    "            \n",
    "            \n",
    "    if()\n",
    "        "
   ]
  },
  {
   "cell_type": "code",
   "execution_count": 112,
   "id": "5ce6c409",
   "metadata": {},
   "outputs": [
    {
     "data": {
      "text/plain": [
       "{'SSN': '122-34-6543',\n",
       " 'CustomerFullName': '0',\n",
       " 'CustomerAddress': '0',\n",
       " 'CustomerCity': 'Gwenborough',\n",
       " 'CustomerZipCode': '92998-3874',\n",
       " 'CustomerProfession': '0',\n",
       " 'CustomerAge': 29}"
      ]
     },
     "execution_count": 112,
     "metadata": {},
     "output_type": "execute_result"
    }
   ],
   "source": [
    "target_made"
   ]
  },
  {
   "cell_type": "code",
   "execution_count": null,
   "id": "7c4e2b38",
   "metadata": {},
   "outputs": [],
   "source": []
  }
 ],
 "metadata": {
  "kernelspec": {
   "display_name": "Python 3 (ipykernel)",
   "language": "python",
   "name": "python3"
  },
  "language_info": {
   "codemirror_mode": {
    "name": "ipython",
    "version": 3
   },
   "file_extension": ".py",
   "mimetype": "text/x-python",
   "name": "python",
   "nbconvert_exporter": "python",
   "pygments_lexer": "ipython3",
   "version": "3.7.6"
  }
 },
 "nbformat": 4,
 "nbformat_minor": 5
}
